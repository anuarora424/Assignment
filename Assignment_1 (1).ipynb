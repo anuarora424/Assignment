{
  "nbformat": 4,
  "nbformat_minor": 0,
  "metadata": {
    "colab": {
      "provenance": []
    },
    "kernelspec": {
      "name": "python3",
      "display_name": "Python 3"
    },
    "language_info": {
      "name": "python"
    }
  },
  "cells": [
    {
      "cell_type": "markdown",
      "source": [
        "1. explain the key features of Python that make it a popular choice for\n",
        "programming."
      ],
      "metadata": {
        "id": "O_Ft8r6JnI-T"
      }
    },
    {
      "cell_type": "markdown",
      "source": [
        "Python has become one of the most popular programming languages due to several key features that make it highly versatile, user-friendly, and powerful:"
      ],
      "metadata": {
        "id": "AtfsLVOKqEFR"
      }
    },
    {
      "cell_type": "code",
      "source": [
        "1.  Simplicity and Readability\n"
      ],
      "metadata": {
        "id": "lmixE3CNuVyP"
      },
      "execution_count": null,
      "outputs": []
    },
    {
      "cell_type": "code",
      "source": [
        " A. Clean Syntax: Python has a very simple, easy-to-read syntax that resembles natural language.\n",
        " B. This reduces the complexity for beginners and allows developers to focus on problem-solving.\n",
        " C. Less Code: Compared to languages like Java or C++, Python requires fewer lines of code to accomplish the same tasks."
      ],
      "metadata": {
        "id": "t7Hmc_yTudcP"
      },
      "execution_count": null,
      "outputs": []
    },
    {
      "cell_type": "code",
      "source": [
        "2. Extensive Libraries and Frameworks"
      ],
      "metadata": {
        "id": "uTjbXVLNj9BQ"
      },
      "execution_count": null,
      "outputs": []
    },
    {
      "cell_type": "code",
      "source": [
        "A. Rich Standard Library: Python comes with a large standard library that supports many common programming tasks.\n",
        "B. file handling, and networking, without the need for external packages.\n",
        "C. Third-Party Libraries: Python's ecosystem includes a vast range of third-party libraries and frameworks for specialized tasks."
      ],
      "metadata": {
        "id": "U2fbaNrFj_73"
      },
      "execution_count": null,
      "outputs": []
    },
    {
      "cell_type": "code",
      "source": [
        " 3. Cross-Platform Compatibility"
      ],
      "metadata": {
        "id": "D7FWh4tlkUh_"
      },
      "execution_count": null,
      "outputs": []
    },
    {
      "cell_type": "code",
      "source": [
        "A. Python is platform-independent, meaning it can run on different operating systems like Windows macOS, and Linux without modification.\n",
        "B. This cross-platform flexibility is a big advantage for developers working on diverse systems."
      ],
      "metadata": {
        "id": "L1VsS4QeurrQ"
      },
      "execution_count": null,
      "outputs": []
    },
    {
      "cell_type": "code",
      "source": [
        "4.  Large and Active Community"
      ],
      "metadata": {
        "id": "4CAhStHCvP4c"
      },
      "execution_count": null,
      "outputs": []
    },
    {
      "cell_type": "code",
      "source": [
        "A. Python has a vast, active community that contributes to its growing repository of packages and frameworks.\n",
        "B. This makes finding support, tutorials, and documentation easier, even for more complex issues.\n",
        "C. The community also plays a big role in the continual improvement of Python, releasing new features and updates regularly."
      ],
      "metadata": {
        "id": "vyFPjJ3pvTM8"
      },
      "execution_count": null,
      "outputs": []
    },
    {
      "cell_type": "code",
      "source": [
        "5. Interpreted Language"
      ],
      "metadata": {
        "id": "cABv-y9GwLZk"
      },
      "execution_count": null,
      "outputs": []
    },
    {
      "cell_type": "code",
      "source": [
        "A. Python is an interpreted language, which means that code is executed line-by-line at runtime.\n",
        "B. his allows for quick prototyping and testing, making debugging easier.\n",
        "C. No need to compile the code separately, as in languages like C or Java."
      ],
      "metadata": {
        "id": "iJd3Nt_MwStM"
      },
      "execution_count": null,
      "outputs": []
    },
    {
      "cell_type": "code",
      "source": [
        "6. Dynamic Typing"
      ],
      "metadata": {
        "id": "63HQ8pN1xUmT"
      },
      "execution_count": null,
      "outputs": []
    },
    {
      "cell_type": "code",
      "source": [
        "A. Python uses dynamic typing, meaning that you don't need to declare the data type of variables explicitly.\n",
        "B. Python infers the type at runtime, which simplifies coding but can sometimes lead to runtime errors if not carefully managed."
      ],
      "metadata": {
        "id": "j_jjM9fZxYB9"
      },
      "execution_count": null,
      "outputs": []
    },
    {
      "cell_type": "code",
      "source": [
        "7. Object-Oriented and Functional Programming Support"
      ],
      "metadata": {
        "id": "Em4seSR2xozU"
      },
      "execution_count": null,
      "outputs": []
    },
    {
      "cell_type": "code",
      "source": [
        "A. Python supports multiple programming paradigms, including object-oriented, procedural,and functional programming.\n",
        "B. This flexibility allows developers to choose the best paradigm for their project."
      ],
      "metadata": {
        "id": "N8tDHdM3xrcm"
      },
      "execution_count": null,
      "outputs": []
    },
    {
      "cell_type": "code",
      "source": [
        "8. Integration Capabilities"
      ],
      "metadata": {
        "id": "UY2qAgX5yU9e"
      },
      "execution_count": null,
      "outputs": []
    },
    {
      "cell_type": "code",
      "source": [
        "A. Python integrates well with other languages and technologies.\n",
        "B. You can use Python alongside C, C++, Java, and even .NET, allowing developers to build high-performance modules in other languages.\n",
        "C. It also supports database interaction through libraries like SQLAlchemy and SQLite.\n"
      ],
      "metadata": {
        "id": "QQOKAyfvyntG"
      },
      "execution_count": null,
      "outputs": []
    },
    {
      "cell_type": "code",
      "source": [
        "9. Automation and Scripting"
      ],
      "metadata": {
        "id": "OSeDtb0xzkHt"
      },
      "execution_count": null,
      "outputs": []
    },
    {
      "cell_type": "code",
      "source": [
        "A. Python is frequently used for automation tasks and scripting because of its simplicity and powerful libraries.\n",
        "B. Whether it's file manipulation, web scraping, or data processing, Python excels at automating repetitive tasks.\n"
      ],
      "metadata": {
        "id": "h4Ayf-2Mzp8e"
      },
      "execution_count": null,
      "outputs": []
    },
    {
      "cell_type": "code",
      "source": [
        "10.  Strong Support for AI and Data Science"
      ],
      "metadata": {
        "id": "D8NrTtQBz68z"
      },
      "execution_count": null,
      "outputs": []
    },
    {
      "cell_type": "code",
      "source": [
        "A. One of the biggest drivers of Python's popularity is its dominance in the data science and AI communities.\n",
        "B. Libraries like Scikit-learn, Keras, Matplotlib, and Pandas make it an excellent choice for data analysis, machine learning, and scientific computing.\n",
        "C. Its flexibility and ease of integration with deep learning frameworks like TensorFlow and PyTorch make it the go-to language for AI development."
      ],
      "metadata": {
        "id": "EKReeQo40Ghk"
      },
      "execution_count": null,
      "outputs": []
    },
    {
      "cell_type": "markdown",
      "source": [
        "2.  Describe the role of predefined keywords in Python and provide examples of how they are used in a programe?"
      ],
      "metadata": {
        "id": "6e4aUxrq0ebL"
      }
    },
    {
      "cell_type": "markdown",
      "source": [
        "Predefined keywords in Python are reserved words that have special meanings and purposes in the language. They are part of the core syntax and cannot be used as identifiers (like variable names or function names). These keywords help define the structure and control flow of a Python program."
      ],
      "metadata": {
        "id": "a7CXPxcT51Vr"
      }
    },
    {
      "cell_type": "code",
      "source": [
        "1. Role of Predefined Keywords:"
      ],
      "metadata": {
        "id": "Gsxq8nQG55oj"
      },
      "execution_count": null,
      "outputs": []
    },
    {
      "cell_type": "code",
      "source": [
        "A. Defining Program Structure: Keywords like if, else, for, while, and def help control the flow of the program by allowing conditional execution, loops, and function definitions.\n",
        "B. Handling Errors: Keywords like try, except, finally, and raise are used for exception handling.\n",
        "C. Variable Management: Keywords such as global, nonlocal, and del manage variable scopes or deletion.\n",
        "D. Managing Data Types: class, True, False, None, in, and is manage object-oriented programming, boolean operations, and membership tests."
      ],
      "metadata": {
        "id": "cLc-L6uZ5_9L"
      },
      "execution_count": null,
      "outputs": []
    },
    {
      "cell_type": "markdown",
      "source": [
        "Examples of Python Keywords:"
      ],
      "metadata": {
        "id": "tfEY7cWS6vKI"
      }
    },
    {
      "cell_type": "code",
      "source": [
        "\n",
        "x = 10\n",
        "if x > 5:\n",
        "    print(\"x is greater than 5\")\n",
        "elif x == 5:\n",
        "    print(\"x is equal to 5\")\n",
        "else:\n",
        "    print(\"x is less than 5\")"
      ],
      "metadata": {
        "id": "w3LU4zH77EbS"
      },
      "execution_count": null,
      "outputs": []
    },
    {
      "cell_type": "code",
      "source": [
        "Here, if, elif, and else control the decision-making based on the condition.\n"
      ],
      "metadata": {
        "id": "EKyKh2WG7Mdy"
      },
      "execution_count": null,
      "outputs": []
    },
    {
      "cell_type": "code",
      "source": [
        "2. Loops (for, while, break, continue)\n"
      ],
      "metadata": {
        "id": "i7hHvY9P9jVv"
      },
      "execution_count": null,
      "outputs": []
    },
    {
      "cell_type": "code",
      "source": [
        "for i in range(5):\n",
        "    if i == 3:\n",
        "        break\n",
        "    print(i)  # Output: 0, 1, 2\n",
        "\n",
        "# Example with 'while' and 'continue'\n",
        "j = 0\n",
        "while j < 5:\n",
        "    j += 1\n",
        "    if j == 3:\n",
        "        continue  # Skip printing when j is 3\n",
        "    print(j)  # Output: 1, 2, 4, 5"
      ],
      "metadata": {
        "colab": {
          "base_uri": "https://localhost:8080/"
        },
        "id": "jCsfFjVlW13l",
        "outputId": "304b7165-1eb3-46ec-ee11-392770999758"
      },
      "execution_count": null,
      "outputs": [
        {
          "output_type": "stream",
          "name": "stdout",
          "text": [
            "0\n",
            "1\n",
            "2\n",
            "1\n",
            "2\n",
            "4\n",
            "5\n"
          ]
        }
      ]
    },
    {
      "cell_type": "code",
      "source": [
        "Keywords like for, while, break, and continue control the execution flow within loops.\n"
      ],
      "metadata": {
        "id": "lPiGLmp7XTyl"
      },
      "execution_count": null,
      "outputs": []
    },
    {
      "cell_type": "code",
      "source": [
        "3. Function Definition (def, return)"
      ],
      "metadata": {
        "id": "3WUB61WRXXks"
      },
      "execution_count": null,
      "outputs": []
    },
    {
      "cell_type": "code",
      "source": [
        "def add_numbers(a, b):\n",
        "    return a + b\n",
        "\n",
        "result = add_numbers(3, 4)\n",
        "print(result)  # Output: 7"
      ],
      "metadata": {
        "colab": {
          "base_uri": "https://localhost:8080/"
        },
        "id": "id6Rlf0AXlNt",
        "outputId": "598107b3-5a3c-4e79-a340-b758bc71324f"
      },
      "execution_count": null,
      "outputs": [
        {
          "output_type": "stream",
          "name": "stdout",
          "text": [
            "7\n"
          ]
        }
      ]
    },
    {
      "cell_type": "code",
      "source": [
        "def defines a function, and return sends a value back from the function."
      ],
      "metadata": {
        "id": "rl3HHhS4X2qd"
      },
      "execution_count": null,
      "outputs": []
    },
    {
      "cell_type": "code",
      "source": [
        "4. Exception Handling (try, except, finally)"
      ],
      "metadata": {
        "id": "Q3dRYyI_X4h4"
      },
      "execution_count": null,
      "outputs": []
    },
    {
      "cell_type": "code",
      "source": [
        "try:\n",
        "    x = 1 / 0\n",
        "except ZeroDivisionError:\n",
        "    print(\"Cannot divide by zero!\")\n",
        "finally:\n",
        "    print(\"This block is always executed.\")\n"
      ],
      "metadata": {
        "id": "9LshhYEOmjbm"
      },
      "execution_count": null,
      "outputs": []
    },
    {
      "cell_type": "code",
      "source": [
        "try, except, and finally handle potential errors in a program, ensuring the program doesn’t crash unexpectedly."
      ],
      "metadata": {
        "id": "VnGTverUmpwj"
      },
      "execution_count": null,
      "outputs": []
    },
    {
      "cell_type": "code",
      "source": [
        "5. Defining Classes and Objects (class, self)"
      ],
      "metadata": {
        "id": "H90EJuy4muPk"
      },
      "execution_count": null,
      "outputs": []
    },
    {
      "cell_type": "code",
      "source": [
        "class Dog:\n",
        "    def __init__(self, name):\n",
        "        self.name = name\n",
        "\n",
        "    def bark(self):\n",
        "        return f\"{self.name} says woof!\"\n",
        "\n",
        "my_dog = Dog(\"Buddy\")\n",
        "print(my_dog.bark())  # Output: Buddy says woof!\n"
      ],
      "metadata": {
        "id": "9ULi3Lfkm3IK"
      },
      "execution_count": null,
      "outputs": []
    },
    {
      "cell_type": "code",
      "source": [
        "class defines a new object type, and self refers to the instance of the class within its methods."
      ],
      "metadata": {
        "id": "Dg0Uh0SOnE4Q"
      },
      "execution_count": null,
      "outputs": []
    },
    {
      "cell_type": "markdown",
      "source": [
        "List of Common Python Keywords"
      ],
      "metadata": {
        "id": "qgD_GnXBnS3V"
      }
    },
    {
      "cell_type": "code",
      "source": [
        "A. Control flow: if, else, elif, for, while, break, continue, pass\n",
        "B. Function and class definitions: def, return, class, lambda\n",
        "C. Error handling: try, except, finally, raise\n",
        "D. Boolean logic: True, False, and, or, not\n",
        "E. Variable scope: global, nonlocal, del\n",
        "F. Miscellaneous: import, with, as, assert, yield, None, in, is\n"
      ],
      "metadata": {
        "id": "yhrspdY6nehT"
      },
      "execution_count": null,
      "outputs": []
    },
    {
      "cell_type": "markdown",
      "source": [
        "Important Notes:\n"
      ],
      "metadata": {
        "id": "PBY2EdvKn8Ry"
      }
    },
    {
      "cell_type": "code",
      "source": [
        "A. Case Sensitivity: Python keywords are case-sensitive. For example, True is a keyword, but true is not.\n",
        "B. Cannot be Used as Identifiers: You cannot use keywords like for or if as variable names. For example, for = 5 would raise a syntax error\n"
      ],
      "metadata": {
        "id": "Abg5hHxqn5JH"
      },
      "execution_count": null,
      "outputs": []
    },
    {
      "cell_type": "code",
      "source": [
        "By controlling the structure and flow of the code, Python keywords ensure programs are understandable and follow strict syntactical rules.\n"
      ],
      "metadata": {
        "id": "Hi8PFVmToNkQ"
      },
      "execution_count": null,
      "outputs": []
    },
    {
      "cell_type": "markdown",
      "source": [
        "3. Compare and contrast mutable and immutable objects in Python with examples?\n",
        "\n"
      ],
      "metadata": {
        "id": "-iEglZoWqT_N"
      }
    },
    {
      "cell_type": "markdown",
      "source": [
        "In Python, objects can be classified as mutable or immutable based on whether their state (i.e., data or contents) can be changed after they are created."
      ],
      "metadata": {
        "id": "gu9blCLIqhew"
      }
    },
    {
      "cell_type": "markdown",
      "source": [
        "Mutable Objects\n"
      ],
      "metadata": {
        "id": "OmXuvx_wqvte"
      }
    },
    {
      "cell_type": "code",
      "source": [
        "Mutable objects are those whose state can be changed after they are created. For example, lists and dictionaries are mutable because you can modify their contents in place.\n"
      ],
      "metadata": {
        "id": "q0jC-VL-qyYf"
      },
      "execution_count": null,
      "outputs": []
    },
    {
      "cell_type": "code",
      "source": [
        "Key Characteristics:\n",
        "A. Can be modified after creation.\n",
        "B. Allow in-place updates such as element addition, deletion, or modification\n",
        "C. Memory address remains the same even when the content is changed."
      ],
      "metadata": {
        "id": "hRvSOtcprI-u"
      },
      "execution_count": null,
      "outputs": []
    },
    {
      "cell_type": "markdown",
      "source": [
        "Examples of Mutable Objects:\n"
      ],
      "metadata": {
        "id": "zDy-ZiXrrhDW"
      }
    },
    {
      "cell_type": "code",
      "source": [
        "1. List: You can change elements in the list after it's created.\n"
      ],
      "metadata": {
        "id": "NKi0ub03rkhA"
      },
      "execution_count": null,
      "outputs": []
    },
    {
      "cell_type": "code",
      "source": [
        "my_list = [1, 2, 3]\n",
        "my_list[0] = 10  # Modifies the first element\n",
        "print(my_list)  # Output: [10, 2, 3]"
      ],
      "metadata": {
        "colab": {
          "base_uri": "https://localhost:8080/"
        },
        "id": "1H14XPBMrryq",
        "outputId": "7592ee63-56d3-4483-e6b7-488f56cd7df5"
      },
      "execution_count": 11,
      "outputs": [
        {
          "output_type": "stream",
          "name": "stdout",
          "text": [
            "[10, 2, 3]\n"
          ]
        }
      ]
    },
    {
      "cell_type": "code",
      "source": [
        "Here, my_list is mutable. Its contents can be changed, and modifying an element doesn't change the memory reference of the list.\n"
      ],
      "metadata": {
        "id": "DH0qjiDRqmqE"
      },
      "execution_count": null,
      "outputs": []
    },
    {
      "cell_type": "code",
      "source": [
        "2. Dictionary: You can change or add key-value pairs.\n"
      ],
      "metadata": {
        "id": "ow2zjXvvr14K"
      },
      "execution_count": null,
      "outputs": []
    },
    {
      "cell_type": "code",
      "source": [
        "my_dict = {'a': 1, 'b': 2}\n",
        "my_dict['c'] = 3  # Adds a new key-value pair\n",
        "print(my_dict)  # Output: {'a': 1, 'b': 2, 'c': 3}\n"
      ],
      "metadata": {
        "colab": {
          "base_uri": "https://localhost:8080/"
        },
        "id": "FQ2NfjbHr9hD",
        "outputId": "83cefceb-676d-4528-e288-216a9cf82b1f"
      },
      "execution_count": 12,
      "outputs": [
        {
          "output_type": "stream",
          "name": "stdout",
          "text": [
            "{'a': 1, 'b': 2, 'c': 3}\n"
          ]
        }
      ]
    },
    {
      "cell_type": "markdown",
      "source": [
        "Immutable Objects\n"
      ],
      "metadata": {
        "id": "BcE_sFmBsLPV"
      }
    },
    {
      "cell_type": "code",
      "source": [
        "Immutable objects are those whose state cannot be changed after they are created. Instead of modifying the object, a new object is created when changes are made.\n",
        "Examples include strings, tuples, and integers."
      ],
      "metadata": {
        "id": "33fmMQS5sO9r"
      },
      "execution_count": null,
      "outputs": []
    },
    {
      "cell_type": "code",
      "source": [
        "Key Characteristics:\n",
        "A. Cannot be modified after creation.\n",
        "B. Any operation that seems to modify an immutable object actually creates a new object.\n",
        "C. Memory address changes when an attempt to \"modify\" the object is made.\n"
      ],
      "metadata": {
        "id": "RurgtYVXsdLT"
      },
      "execution_count": null,
      "outputs": []
    },
    {
      "cell_type": "markdown",
      "source": [
        "Examples of Immutable Objects:\n"
      ],
      "metadata": {
        "id": "_YTOU2CvsvUB"
      }
    },
    {
      "cell_type": "code",
      "source": [
        "1. String: Strings cannot be modified in place.\n"
      ],
      "metadata": {
        "id": "vSl5ovl9syqP"
      },
      "execution_count": null,
      "outputs": []
    },
    {
      "cell_type": "code",
      "source": [
        "my_string = \"Hello\"\n",
        "my_string = my_string + \" World\"\n",
        "print(my_string)  # Output: \"Hello World\"\n"
      ],
      "metadata": {
        "colab": {
          "base_uri": "https://localhost:8080/"
        },
        "id": "iEtr4sLwtB8a",
        "outputId": "572b4319-61cc-4944-a4a9-73f737ee57f8"
      },
      "execution_count": 13,
      "outputs": [
        {
          "output_type": "stream",
          "name": "stdout",
          "text": [
            "Hello World\n"
          ]
        }
      ]
    },
    {
      "cell_type": "code",
      "source": [
        "Here, a new string \"Hello World\" is created, and the reference my_string points to this new string. The original string \"Hello\" remains unchanged.\n"
      ],
      "metadata": {
        "id": "HgLQZ_xvtCxX"
      },
      "execution_count": null,
      "outputs": []
    },
    {
      "cell_type": "code",
      "source": [
        "2. Tuple: Tuples, like lists, hold multiple items but are immutable."
      ],
      "metadata": {
        "id": "YiIoMRyBtK39"
      },
      "execution_count": null,
      "outputs": []
    },
    {
      "cell_type": "code",
      "source": [
        "my_tuple = (1, 2, 3)\n",
        "# my_tuple[0] = 10  # This will raise a TypeError because tuples are immutable.\n"
      ],
      "metadata": {
        "id": "KMwNLiPztSqD"
      },
      "execution_count": null,
      "outputs": []
    },
    {
      "cell_type": "markdown",
      "source": [
        "Conclusion:\n"
      ],
      "metadata": {
        "id": "iqfbc8_QZ1fG"
      }
    },
    {
      "cell_type": "code",
      "source": [
        "A. Use mutable objects when you need to modify the data frequently without creating new objects.\n",
        "B. Use immutable objects when the data should remain constant or when immutability offers benefits such as hashability (e.g., using strings and tuples as dictionary keys)."
      ],
      "metadata": {
        "id": "U4ryL6MhZ8f1"
      },
      "execution_count": null,
      "outputs": []
    },
    {
      "cell_type": "markdown",
      "source": [
        "4. Discuss the different types of operators in Python and provide examples of how they are used?\n",
        "\n"
      ],
      "metadata": {
        "id": "uT4r9JWLax6I"
      }
    },
    {
      "cell_type": "markdown",
      "source": [
        "In Python, operators are special symbols or keywords that perform operations on variables and values. They can be categorized into different types based on the type of operation they perform. Here are the main types of operators in Python:\n"
      ],
      "metadata": {
        "id": "2DcYzbA4biuj"
      }
    },
    {
      "cell_type": "markdown",
      "source": [
        "1.  Arithmetic Operators\n"
      ],
      "metadata": {
        "id": "VrzcNMBzboze"
      }
    },
    {
      "cell_type": "code",
      "source": [
        "These operators are used to perform mathematical operations like addition, subtraction, multiplication, etc.\n",
        "\n",
        "A. +: Addition\n",
        "B. -: Subtraction\n",
        "C. *: Multiplication\n",
        "D. /: Division (returns float)\n",
        "E. //: Floor Division (returns the largest integer less than or equal to the result)\n",
        "F. %: Modulus (remainder of division)\n",
        "G. **: Exponentiation (power)\n",
        "\n"
      ],
      "metadata": {
        "id": "oIgyA5dLbvGf"
      },
      "execution_count": null,
      "outputs": []
    },
    {
      "cell_type": "code",
      "source": [
        "Example:\n",
        "\n",
        "x = 10\n",
        "y = 3\n",
        "print(x + y)  # 13\n",
        "print(x - y)  # 7\n",
        "print(x * y)  # 30\n",
        "print(x / y)  # 3.333...\n",
        "print(x // y) # 3\n",
        "print(x % y)  # 1\n",
        "print(x ** y) # 1000 (10 raised to the power 3)\n"
      ],
      "metadata": {
        "id": "uwurh2PDcfDH"
      },
      "execution_count": null,
      "outputs": []
    },
    {
      "cell_type": "code",
      "source": [
        "2. Comparison (Relational) Operators\n"
      ],
      "metadata": {
        "id": "K4eYOR_JcoHm"
      },
      "execution_count": null,
      "outputs": []
    },
    {
      "cell_type": "code",
      "source": [
        "Comparison operators are used to compare two values. The result is either True or False.\n",
        "\n",
        "A. ==: Equal to\n",
        "B. !=: Not equal to\n",
        "C. >: Greater than\n",
        "D. <: Less than\n",
        "E. >=: Greater than or equal to\n",
        "F. <=: Less than or equal to\n"
      ],
      "metadata": {
        "id": "eZ-PXiuucsdv"
      },
      "execution_count": null,
      "outputs": []
    },
    {
      "cell_type": "code",
      "source": [
        "Example:\n",
        "\n",
        "x = 5\n",
        "y = 3\n",
        "print(x == y)  # False\n",
        "print(x != y)  # True\n",
        "print(x > y)   # True\n",
        "print(x < y)   # False\n",
        "print(x >= y)  # True\n",
        "print(x <= y)  # False\n"
      ],
      "metadata": {
        "id": "mDUoziCHc5LI"
      },
      "execution_count": null,
      "outputs": []
    },
    {
      "cell_type": "code",
      "source": [
        "3. Logical Operators\n"
      ],
      "metadata": {
        "id": "q7pQBwz2dB6d"
      },
      "execution_count": null,
      "outputs": []
    },
    {
      "cell_type": "code",
      "source": [
        "Logical operators are used to combine conditional statements. They return either True or False.\n",
        "\n",
        "and: Returns True if both statements are true\n",
        "or: Returns True if one of the statements is true\n",
        "not: Reverses the result, returns False if the result is true\n"
      ],
      "metadata": {
        "id": "UeZEOlM7dG6_"
      },
      "execution_count": null,
      "outputs": []
    },
    {
      "cell_type": "code",
      "source": [
        "Example:\n",
        "x = 5\n",
        "y = 3\n",
        "z = 7\n",
        "print(x > y and z > x)  # True\n",
        "print(x > y or y > z)   # True\n",
        "print(not(x > y))       # False\n",
        "\n",
        "\n"
      ],
      "metadata": {
        "id": "aTIgOfpSdNWI"
      },
      "execution_count": null,
      "outputs": []
    },
    {
      "cell_type": "code",
      "source": [
        "4. Assignment Operators\n"
      ],
      "metadata": {
        "id": "Mxou1fYTdbJF"
      },
      "execution_count": null,
      "outputs": []
    },
    {
      "cell_type": "code",
      "source": [
        "Assignment operators are used to assign values to variables, and can also combine assignments with arithmetic operations.\n",
        "\n",
        "A. =: Assigns a value\n",
        "B. +=: Adds and assigns\n",
        "C. -=: Subtracts and assigns\n",
        "D. *=: Multiplies and assigns\n",
        "E. /=: Divides and assigns\n",
        "F. %=: Modulus and assigns\n",
        "G. //=: Floor division and assigns\n",
        "H. **=: Exponentiation and assigns"
      ],
      "metadata": {
        "id": "AckAFfrpdgHm"
      },
      "execution_count": null,
      "outputs": []
    },
    {
      "cell_type": "code",
      "source": [
        "Example:\n",
        "\n",
        "x = 5\n",
        "x += 3  # Equivalent to x = x + 3\n",
        "print(x)  # 8\n",
        "\n",
        "y = 4\n",
        "y *= 2  # Equivalent to y = y * 2\n",
        "print(y)  # 8\n"
      ],
      "metadata": {
        "id": "MRtYAXSvdzB3"
      },
      "execution_count": null,
      "outputs": []
    },
    {
      "cell_type": "code",
      "source": [
        "5. Bitwise Operators\n"
      ],
      "metadata": {
        "id": "N278viCId-IB"
      },
      "execution_count": null,
      "outputs": []
    },
    {
      "cell_type": "code",
      "source": [
        "Bitwise operators perform operations on binary numbers.\n",
        "\n",
        "A. &: AND\n",
        "B. |: OR\n",
        "C. ^: XOR\n",
        "D. ~: NOT\n",
        "E. <<: Left shift\n",
        "F. >>: Right shift\n"
      ],
      "metadata": {
        "id": "9d0aN1idd_Ml"
      },
      "execution_count": null,
      "outputs": []
    },
    {
      "cell_type": "code",
      "source": [
        "Example:\n",
        "x = 5  # Binary: 101\n",
        "y = 3  # Binary: 011\n",
        "print(x & y)  # 1 (Binary: 001)\n",
        "print(x | y)  # 7 (Binary: 111)\n",
        "print(x ^ y)  # 6 (Binary: 110)\n",
        "print(~x)     # -6 (Inverts all the bits)\n",
        "print(x << 1) # 10 (Left shift by 1 bit: 1010)\n",
        "print(x >> 1) # 2 (Right shift by 1 bit: 010)\n"
      ],
      "metadata": {
        "id": "OlU-J5_vea1T"
      },
      "execution_count": null,
      "outputs": []
    },
    {
      "cell_type": "code",
      "source": [
        "6. Membership Operators"
      ],
      "metadata": {
        "id": "ATaSxq-SeinV"
      },
      "execution_count": null,
      "outputs": []
    },
    {
      "cell_type": "code",
      "source": [
        "Membership operators test for membership in a sequence, such as strings, lists, or tuples.\n",
        "\n",
        "in: Returns True if a value is found in the sequence\n",
        "not in: Returns True if a value is not found in the sequence"
      ],
      "metadata": {
        "id": "Rtk5F0queowy"
      },
      "execution_count": null,
      "outputs": []
    },
    {
      "cell_type": "code",
      "source": [
        "Example:\n",
        "\n",
        "my_list = [1, 2, 3, 4, 5]\n",
        "print(3 in my_list)  # True\n",
        "print(7 not in my_list)  # True\n"
      ],
      "metadata": {
        "id": "ZgE8mlr7exq_"
      },
      "execution_count": null,
      "outputs": []
    },
    {
      "cell_type": "code",
      "source": [
        "7. Identity Operators"
      ],
      "metadata": {
        "id": "86brt16CfAjB"
      },
      "execution_count": null,
      "outputs": []
    },
    {
      "cell_type": "code",
      "source": [
        "Identity operators compare the memory locations of two objects.\n",
        "\n",
        "is: Returns True if two variables refer to the same object\n",
        "is not: Returns True if two variables do not refer to the same object"
      ],
      "metadata": {
        "id": "wWePPMBmfR68"
      },
      "execution_count": null,
      "outputs": []
    },
    {
      "cell_type": "code",
      "source": [
        "Example:\n",
        "\n",
        "x = [1, 2, 3]\n",
        "y = [1, 2, 3]\n",
        "z = x\n",
        "print(x is z)      # True (x and z refer to the same object)\n",
        "print(x is y)      # False (x and y are different objects with the same values)\n",
        "print(x is not y)  # True\n"
      ],
      "metadata": {
        "id": "b4-dVeowe4ul"
      },
      "execution_count": null,
      "outputs": []
    },
    {
      "cell_type": "code",
      "source": [
        "8. Ternary (Conditional) Operator\n"
      ],
      "metadata": {
        "id": "Ps_QDY5zeg81"
      },
      "execution_count": null,
      "outputs": []
    },
    {
      "cell_type": "code",
      "source": [
        "The ternary operator allows conditional evaluation in a single line.\n",
        "\n",
        "<expression1> if <condition> else <expression2>: If the condition is True, it evaluates and returns <expression1>, otherwise it returns <expression2>."
      ],
      "metadata": {
        "id": "LxGGMgj0cbjl"
      },
      "execution_count": null,
      "outputs": []
    },
    {
      "cell_type": "code",
      "source": [
        "Example:\n",
        "\n",
        "x = 10\n",
        "y = 20\n",
        "result = \"x is greater\" if x > y else \"y is greater\"\n",
        "print(result)  # y is greater"
      ],
      "metadata": {
        "id": "NDO8JAaUfpjS"
      },
      "execution_count": null,
      "outputs": []
    },
    {
      "cell_type": "markdown",
      "source": [
        "These are the main operators in Python that provide a wide range of functionalities for performing operations on variables, data structures, and more.\n",
        "\n",
        "\n",
        "\n",
        "\n",
        "\n",
        "\n"
      ],
      "metadata": {
        "id": "O9qC7wTHf46n"
      }
    },
    {
      "cell_type": "markdown",
      "source": [
        "5. \"Explain the concept of type casting in Python with examples?\n",
        "\n"
      ],
      "metadata": {
        "id": "pUEb5iOOgfLX"
      }
    },
    {
      "cell_type": "markdown",
      "source": [
        "Type casting in Python refers to the conversion of one data type into another. It allows you to convert values between types, such as integers to floats, strings to integers, and so on. This is often done when you need to perform operations that require specific data types.\n",
        "\n"
      ],
      "metadata": {
        "id": "SaHvoDAIhZEN"
      }
    },
    {
      "cell_type": "code",
      "source": [
        "There are two types of casting:\n",
        "\n",
        "1. Implicit Type Casting (Automatic Conversion): Python automatically converts one data type to another during an operation without the need for explicit intervention.\n",
        "2. Explicit Type Casting (Manual Conversion): The programmer explicitly converts one data type into another using Python’s built-in functions.\n"
      ],
      "metadata": {
        "id": "UDeRoNU9ITOc"
      },
      "execution_count": null,
      "outputs": []
    },
    {
      "cell_type": "markdown",
      "source": [
        "1. Implicit Type Casting\n"
      ],
      "metadata": {
        "id": "Fv7Ypu50IZiP"
      }
    },
    {
      "cell_type": "code",
      "source": [
        "Python automatically converts smaller data types into larger data types to prevent data loss.\n"
      ],
      "metadata": {
        "id": "QiCFMXqqIWgy"
      },
      "execution_count": null,
      "outputs": []
    },
    {
      "cell_type": "code",
      "source": [
        "EXAMPLE:-"
      ],
      "metadata": {
        "id": "zkM_-hKDIy_5"
      },
      "execution_count": null,
      "outputs": []
    },
    {
      "cell_type": "code",
      "source": [
        "\n",
        "# Implicit conversion\n",
        "x = 5    # integer\n",
        "y = 3.2  # float\n",
        "\n",
        "# Python automatically converts the integer (x) to a float during the operation\n",
        "result = x + y\n",
        "print(result)    # Output: 8.2\n",
        "print(type(result))  # Output: <class 'float'>"
      ],
      "metadata": {
        "colab": {
          "base_uri": "https://localhost:8080/"
        },
        "id": "-ONqAbO1IgpO",
        "outputId": "9d1b514c-3dbf-43d3-fa5a-0b09ac543337"
      },
      "execution_count": 2,
      "outputs": [
        {
          "output_type": "stream",
          "name": "stdout",
          "text": [
            "8.2\n",
            "<class 'float'>\n"
          ]
        }
      ]
    },
    {
      "cell_type": "code",
      "source": [
        "In this example, x (an integer) is implicitly converted to a float so it can be added to y (a float)."
      ],
      "metadata": {
        "id": "F8WJLd9kIpiS"
      },
      "execution_count": null,
      "outputs": []
    },
    {
      "cell_type": "markdown",
      "source": [
        "2. Explicit Type Casting\n"
      ],
      "metadata": {
        "id": "eJ4eGz5TI9kE"
      }
    },
    {
      "cell_type": "code",
      "source": [
        "In explicit type casting, you manually convert one data type to another using type casting functions."
      ],
      "metadata": {
        "id": "e2MPZ63HJCBs"
      },
      "execution_count": null,
      "outputs": []
    },
    {
      "cell_type": "code",
      "source": [
        "Common Type Casting Functions:\n",
        "\n",
        "A. int() – Converts a value to an integer\n",
        "B. float() – Converts a value to a float\n",
        "C. str() – Converts a value to a string\n",
        "D. list() – Converts an iterable to a list\n",
        "E. tuple() – Converts an iterable to a tuple\n"
      ],
      "metadata": {
        "id": "inxHwKbFJIoh"
      },
      "execution_count": null,
      "outputs": []
    },
    {
      "cell_type": "code",
      "source": [
        "Example 1: Integer to Float"
      ],
      "metadata": {
        "id": "lqBow38vJOei"
      },
      "execution_count": null,
      "outputs": []
    },
    {
      "cell_type": "code",
      "source": [
        "x = 10   # integer\n",
        "y = float(x)  # explicitly cast x to float\n",
        "print(y)    # Output: 10.0\n",
        "print(type(y))  # Output: <class 'float'>\n"
      ],
      "metadata": {
        "colab": {
          "base_uri": "https://localhost:8080/"
        },
        "id": "hvQhfjAXJSDz",
        "outputId": "6582d9a1-01ed-45d0-c1de-8faeb81f439d"
      },
      "execution_count": 3,
      "outputs": [
        {
          "output_type": "stream",
          "name": "stdout",
          "text": [
            "10.0\n",
            "<class 'float'>\n"
          ]
        }
      ]
    },
    {
      "cell_type": "code",
      "source": [
        "Example 2: String to Integer"
      ],
      "metadata": {
        "id": "2KLSlS0UJU_y"
      },
      "execution_count": null,
      "outputs": []
    },
    {
      "cell_type": "code",
      "source": [
        "s = \"123\"  # string\n",
        "n = int(s)  # explicitly cast s to integer\n",
        "print(n)    # Output: 123\n",
        "print(type(n))  # Output: <class 'int'>\n"
      ],
      "metadata": {
        "colab": {
          "base_uri": "https://localhost:8080/"
        },
        "id": "1J4lf71IJefP",
        "outputId": "2e83c015-7510-47f1-9d42-f5c29c35c1ff"
      },
      "execution_count": 4,
      "outputs": [
        {
          "output_type": "stream",
          "name": "stdout",
          "text": [
            "123\n",
            "<class 'int'>\n"
          ]
        }
      ]
    },
    {
      "cell_type": "code",
      "source": [
        "Note: The string must represent a valid integer; otherwise, you'll get a ValueError\n"
      ],
      "metadata": {
        "id": "XLP7HpVQJhfo"
      },
      "execution_count": null,
      "outputs": []
    },
    {
      "cell_type": "code",
      "source": [
        "Example 3: Float to Integer (Loss of precision)\n"
      ],
      "metadata": {
        "id": "C4ArtS8iJ1Bm"
      },
      "execution_count": null,
      "outputs": []
    },
    {
      "cell_type": "code",
      "source": [
        "f = 9.76  # float\n",
        "i = int(f)  # explicitly cast float to integer\n",
        "print(i)    # Output: 9\n",
        "print(type(i))  # Output: <class 'int'>\n"
      ],
      "metadata": {
        "colab": {
          "base_uri": "https://localhost:8080/"
        },
        "id": "A3mXvmP3J6Aw",
        "outputId": "c308a7dd-dca4-48bf-8f99-4ce9139c57c8"
      },
      "execution_count": 5,
      "outputs": [
        {
          "output_type": "stream",
          "name": "stdout",
          "text": [
            "9\n",
            "<class 'int'>\n"
          ]
        }
      ]
    },
    {
      "cell_type": "code",
      "source": [
        "f = 9.76  # float\n",
        "i = int(f)  # explicitly cast float to integer\n",
        "print(i)    # Output: 9\n",
        "print(type(i))  # Output: <class 'int'>"
      ],
      "metadata": {
        "colab": {
          "base_uri": "https://localhost:8080/"
        },
        "id": "TUXT6uxkJ68o",
        "outputId": "0d7bb2d2-0127-42f1-9fac-138530884fd2"
      },
      "execution_count": 6,
      "outputs": [
        {
          "output_type": "stream",
          "name": "stdout",
          "text": [
            "9\n",
            "<class 'int'>\n"
          ]
        }
      ]
    },
    {
      "cell_type": "code",
      "source": [
        "In this example, the fractional part (0.76) is discarded when converting from float to integer."
      ],
      "metadata": {
        "id": "kq52j42qKG-n"
      },
      "execution_count": null,
      "outputs": []
    },
    {
      "cell_type": "markdown",
      "source": [
        "Example of Invalid Type Casting\n"
      ],
      "metadata": {
        "id": "EdJWsn30KO5T"
      }
    },
    {
      "cell_type": "code",
      "source": [
        "If a string does not contain a valid number, attempting to cast it to an integer will raise an error"
      ],
      "metadata": {
        "id": "WxIO7ZTfKU2d"
      },
      "execution_count": null,
      "outputs": []
    },
    {
      "cell_type": "code",
      "source": [
        "s = \"abc\"\n",
        "n = int(s)  # This will raise a ValueError: invalid literal for int()"
      ],
      "metadata": {
        "id": "kYiHq11JKXqA"
      },
      "execution_count": null,
      "outputs": []
    },
    {
      "cell_type": "markdown",
      "source": [
        "Summary\n",
        "Implicit casting happens automatically, and no data loss occurs.\n",
        "Explicit casting is done manually by the programmer and may result in loss of precision or errors if the conversion is not valid.\n",
        "\n",
        "\n",
        "\n",
        "\n",
        "\n"
      ],
      "metadata": {
        "id": "Jo1zrOOXKgAi"
      }
    },
    {
      "cell_type": "markdown",
      "source": [
        "6. How do conditional statements work in Python? Illustrate with examples?"
      ],
      "metadata": {
        "id": "OsE1l5BmLCV1"
      }
    },
    {
      "cell_type": "markdown",
      "source": [
        "In Python, conditional statements allow you to execute certain blocks of code only if specific conditions are met. The most common conditional statement is the if statement, which can be expanded with elif (else if) and else to check multiple conditions.\n",
        "\n"
      ],
      "metadata": {
        "id": "wkrMC-RZLHYN"
      }
    },
    {
      "cell_type": "markdown",
      "source": [
        "1. if statement:\n"
      ],
      "metadata": {
        "id": "ETKncAa5LQWh"
      }
    },
    {
      "cell_type": "code",
      "source": [
        "The if statement checks whether a condition is true. If it is, the block of code under the if is executed."
      ],
      "metadata": {
        "id": "FfqjyANMLTgm"
      },
      "execution_count": null,
      "outputs": []
    },
    {
      "cell_type": "code",
      "source": [
        "x = 10\n",
        "if x > 5:\n",
        "    print(\"x is greater than 5\")"
      ],
      "metadata": {
        "id": "mBt06nKXLl2S"
      },
      "execution_count": null,
      "outputs": []
    },
    {
      "cell_type": "code",
      "source": [
        "Output:"
      ],
      "metadata": {
        "id": "WrOL7xhzL2qy"
      },
      "execution_count": null,
      "outputs": []
    },
    {
      "cell_type": "code",
      "source": [
        "x is greater than 5"
      ],
      "metadata": {
        "id": "YTRAQnH4L--s"
      },
      "execution_count": null,
      "outputs": []
    },
    {
      "cell_type": "code",
      "source": [
        "2. if-else statement:\n"
      ],
      "metadata": {
        "id": "xIBmfB9bMI_W"
      },
      "execution_count": null,
      "outputs": []
    },
    {
      "cell_type": "code",
      "source": [
        "You can use an else clause to execute a block of code when the if condition is false."
      ],
      "metadata": {
        "id": "kK9qAe9LMKom"
      },
      "execution_count": null,
      "outputs": []
    },
    {
      "cell_type": "code",
      "source": [
        "x = 3\n",
        "if x > 5:\n",
        "    print(\"x is greater than 5\")\n",
        "else:\n",
        "    print(\"x is less than or equal to 5\")\n"
      ],
      "metadata": {
        "id": "UHT4hpq1MRbe"
      },
      "execution_count": null,
      "outputs": []
    },
    {
      "cell_type": "code",
      "source": [
        "Output:"
      ],
      "metadata": {
        "id": "G8FgsxAhMVt0"
      },
      "execution_count": null,
      "outputs": []
    },
    {
      "cell_type": "code",
      "source": [
        "x is less than or equal to 5"
      ],
      "metadata": {
        "id": "XqfN4zX8MdQS"
      },
      "execution_count": null,
      "outputs": []
    },
    {
      "cell_type": "code",
      "source": [
        "3. if-elif-else statement:"
      ],
      "metadata": {
        "id": "obogMediMjjZ"
      },
      "execution_count": null,
      "outputs": []
    },
    {
      "cell_type": "code",
      "source": [
        "The elif (short for \"else if\") allows you to check multiple conditions in sequence."
      ],
      "metadata": {
        "id": "ieioFGKdMk3G"
      },
      "execution_count": null,
      "outputs": []
    },
    {
      "cell_type": "code",
      "source": [
        "x = 5\n",
        "if x > 10:\n",
        "    print(\"x is greater than 10\")\n",
        "elif x == 5:\n",
        "    print(\"x is equal to 5\")\n",
        "else:\n",
        "    print(\"x is less than 5\")"
      ],
      "metadata": {
        "id": "0QXaidXwMpsO"
      },
      "execution_count": null,
      "outputs": []
    },
    {
      "cell_type": "code",
      "source": [
        "Output:"
      ],
      "metadata": {
        "id": "on7rUnAUMq4w"
      },
      "execution_count": null,
      "outputs": []
    },
    {
      "cell_type": "code",
      "source": [
        "x is equal to 5"
      ],
      "metadata": {
        "id": "u2YbeO48Mx0X"
      },
      "execution_count": null,
      "outputs": []
    },
    {
      "cell_type": "markdown",
      "source": [
        "4. Nested if statements:"
      ],
      "metadata": {
        "id": "pe-D8wQxM3wz"
      }
    },
    {
      "cell_type": "code",
      "source": [
        "You can also nest if statements within other if statements to handle more complex conditions"
      ],
      "metadata": {
        "id": "fh5qU1TfM0hs"
      },
      "execution_count": null,
      "outputs": []
    },
    {
      "cell_type": "code",
      "source": [
        "x = 7\n",
        "if x > 5:\n",
        "    print(\"x is greater than 5\")\n",
        "    if x < 10:\n",
        "        print(\"x is less than 10\")"
      ],
      "metadata": {
        "id": "XJguYCH7MpiX"
      },
      "execution_count": null,
      "outputs": []
    },
    {
      "cell_type": "code",
      "source": [
        "Output:"
      ],
      "metadata": {
        "id": "CE6_NPl2NFm9"
      },
      "execution_count": null,
      "outputs": []
    },
    {
      "cell_type": "code",
      "source": [
        "x is greater than 5\n",
        "x is less than 10"
      ],
      "metadata": {
        "id": "kRPG-tmhNIV2"
      },
      "execution_count": null,
      "outputs": []
    },
    {
      "cell_type": "markdown",
      "source": [
        "5. Ternary (One-line) if statement:"
      ],
      "metadata": {
        "id": "tosGQOJTNKQL"
      }
    },
    {
      "cell_type": "code",
      "source": [
        "Python also supports a shorthand for if-else called the ternary operator, which allows you to write the statement on one line."
      ],
      "metadata": {
        "id": "6eFzNf9vNJlV"
      },
      "execution_count": null,
      "outputs": []
    },
    {
      "cell_type": "code",
      "source": [
        "x = 10\n",
        "result = \"Greater than 5\" if x > 5 else \"Less than or equal to 5\"\n",
        "print(result)"
      ],
      "metadata": {
        "id": "JoVUMnuWNVOC"
      },
      "execution_count": null,
      "outputs": []
    },
    {
      "cell_type": "code",
      "source": [
        "Output:"
      ],
      "metadata": {
        "id": "8bE0UKVxNX0P"
      },
      "execution_count": null,
      "outputs": []
    },
    {
      "cell_type": "code",
      "source": [
        "Greater than 5"
      ],
      "metadata": {
        "id": "IRNwpZs7NcsK"
      },
      "execution_count": null,
      "outputs": []
    },
    {
      "cell_type": "markdown",
      "source": [
        "Example: Using conditional statements with multiple conditions:\n"
      ],
      "metadata": {
        "id": "22J7mvoQNncW"
      }
    },
    {
      "cell_type": "code",
      "source": [
        "age = 20\n",
        "if age < 18:\n",
        "    print(\"Minor\")\n",
        "elif 18 <= age < 65:\n",
        "    print(\"Adult\")\n",
        "else:\n",
        "    print(\"Senior\")"
      ],
      "metadata": {
        "id": "6O_TQsOjNqX7"
      },
      "execution_count": null,
      "outputs": []
    },
    {
      "cell_type": "code",
      "source": [
        "Output:"
      ],
      "metadata": {
        "id": "YDc1lALJNuEJ"
      },
      "execution_count": null,
      "outputs": []
    },
    {
      "cell_type": "code",
      "source": [
        "Adult"
      ],
      "metadata": {
        "id": "HeAtleZfNxcg"
      },
      "execution_count": null,
      "outputs": []
    },
    {
      "cell_type": "code",
      "source": [
        "In summary, conditional statements help you control the flow of your program by making decisions based on certain conditions.\n",
        "The basic structure involves if, elif, and else to handle multiple branches of logic."
      ],
      "metadata": {
        "id": "ORaHkdMBN538"
      },
      "execution_count": null,
      "outputs": []
    },
    {
      "cell_type": "markdown",
      "source": [
        "7 Describe the different types of loops in Python and their use cases with examples?\n",
        "\n"
      ],
      "metadata": {
        "id": "CxddjGTWOCxl"
      }
    },
    {
      "cell_type": "markdown",
      "source": [
        "In Python, loops allow you to execute a block of code repeatedly, based on a condition or a specific number of iterations. There are two main types of loops in Python:\n",
        "\n"
      ],
      "metadata": {
        "id": "K-U7Pe_mOqyp"
      }
    },
    {
      "cell_type": "code",
      "source": [
        "1. for loop\n",
        "2. while loop\n"
      ],
      "metadata": {
        "id": "1YPoi5u_Os3G"
      },
      "execution_count": null,
      "outputs": []
    },
    {
      "cell_type": "code",
      "source": [
        "1. for Loop"
      ],
      "metadata": {
        "id": "aDZ2UxCnO0p3"
      },
      "execution_count": null,
      "outputs": []
    },
    {
      "cell_type": "code",
      "source": [
        "The for loop in Python is used for iterating over a sequence (such as a list, tuple, string, or range). It executes the code block for each item in the sequence."
      ],
      "metadata": {
        "id": "lFlJGJH8O7D-"
      },
      "execution_count": null,
      "outputs": []
    },
    {
      "cell_type": "code",
      "source": [
        "Syntax:"
      ],
      "metadata": {
        "id": "42bKDk-JO0an"
      },
      "execution_count": null,
      "outputs": []
    },
    {
      "cell_type": "code",
      "source": [
        "for variable in sequence:\n",
        "    # Code block"
      ],
      "metadata": {
        "id": "1viT2rDdPB60"
      },
      "execution_count": null,
      "outputs": []
    },
    {
      "cell_type": "code",
      "source": [
        "Use Cases:\n",
        "Iterating over elements in a sequence (e.g., list, tuple, string): Useful when you know the number of iterations beforehand, especially when working with collections or ranges."
      ],
      "metadata": {
        "id": "yowr-i4aPETp"
      },
      "execution_count": null,
      "outputs": []
    },
    {
      "cell_type": "code",
      "source": [
        "Example 1: Iterating over a list"
      ],
      "metadata": {
        "id": "q241nC6KPKSN"
      },
      "execution_count": null,
      "outputs": []
    },
    {
      "cell_type": "code",
      "source": [
        "fruits = ['apple', 'banana', 'cherry']\n",
        "for fruit in fruits:\n",
        "    print(fruit)"
      ],
      "metadata": {
        "id": "gxzWUm6BPPgS"
      },
      "execution_count": null,
      "outputs": []
    },
    {
      "cell_type": "code",
      "source": [
        "Example 2: Using range() to iterate through a sequence of numbers"
      ],
      "metadata": {
        "id": "IjEqPmmsPSRm"
      },
      "execution_count": null,
      "outputs": []
    },
    {
      "cell_type": "code",
      "source": [
        "for i in range(5):\n",
        "    print(i)"
      ],
      "metadata": {
        "id": "6ZDwgYHVPVn0"
      },
      "execution_count": null,
      "outputs": []
    },
    {
      "cell_type": "code",
      "source": [
        "Output:"
      ],
      "metadata": {
        "id": "45AXtXZnPYFj"
      },
      "execution_count": null,
      "outputs": []
    },
    {
      "cell_type": "code",
      "source": [
        "0\n",
        "1\n",
        "2\n",
        "3\n",
        "4\n"
      ],
      "metadata": {
        "id": "76ZeUyN_Pefl"
      },
      "execution_count": null,
      "outputs": []
    },
    {
      "cell_type": "code",
      "source": [
        "Example 3: Iterating over a string"
      ],
      "metadata": {
        "id": "o0uPhX8tPg23"
      },
      "execution_count": null,
      "outputs": []
    },
    {
      "cell_type": "code",
      "source": [
        "name = \"Python\"\n",
        "for letter in name:\n",
        "    print(letter)"
      ],
      "metadata": {
        "id": "txZe7PFxPn42"
      },
      "execution_count": null,
      "outputs": []
    },
    {
      "cell_type": "markdown",
      "source": [
        "2. While Loop"
      ],
      "metadata": {
        "id": "WR_umVIqPsH0"
      }
    },
    {
      "cell_type": "code",
      "source": [
        "The while loop in Python repeatedly executes a block of code as long as a given condition is true."
      ],
      "metadata": {
        "id": "u5TNF_U_Po62"
      },
      "execution_count": null,
      "outputs": []
    },
    {
      "cell_type": "code",
      "source": [
        "Syntax:"
      ],
      "metadata": {
        "id": "YQ3wGuEzP1p9"
      },
      "execution_count": null,
      "outputs": []
    },
    {
      "cell_type": "code",
      "source": [
        "while condition:\n",
        "    # Code block"
      ],
      "metadata": {
        "id": "Jwz6xUIGP5pd"
      },
      "execution_count": null,
      "outputs": []
    },
    {
      "cell_type": "code",
      "source": [
        "Use Cases:\n",
        "Conditional iteration: Useful when the number of iterations is unknown and depends on a condition that might change during execution."
      ],
      "metadata": {
        "id": "iV9TyOgEP9Am"
      },
      "execution_count": null,
      "outputs": []
    },
    {
      "cell_type": "code",
      "source": [
        "Example 1: Basic while loop"
      ],
      "metadata": {
        "id": "S7bm5k7wQAM_"
      },
      "execution_count": null,
      "outputs": []
    },
    {
      "cell_type": "code",
      "source": [
        "i = 0\n",
        "while i < 5:\n",
        "    print(i)\n",
        "    i += 1"
      ],
      "metadata": {
        "id": "iv_xuA-6QHMw"
      },
      "execution_count": null,
      "outputs": []
    },
    {
      "cell_type": "code",
      "source": [
        "Output:"
      ],
      "metadata": {
        "id": "o-VLSVmFQJ0B"
      },
      "execution_count": null,
      "outputs": []
    },
    {
      "cell_type": "code",
      "source": [
        "0\n",
        "1\n",
        "2\n",
        "3\n",
        "4\n"
      ],
      "metadata": {
        "id": "gcsupL7XQORS"
      },
      "execution_count": null,
      "outputs": []
    },
    {
      "cell_type": "code",
      "source": [
        "Example 2: while loop with user input"
      ],
      "metadata": {
        "id": "4XZuoT8dQRXx"
      },
      "execution_count": null,
      "outputs": []
    },
    {
      "cell_type": "code",
      "source": [
        "password = \"\"\n",
        "while password != \"secret\":\n",
        "    password = input(\"Enter the password: \")\n",
        "print(\"Access granted!\")"
      ],
      "metadata": {
        "id": "6V2JUMWaQU8T"
      },
      "execution_count": null,
      "outputs": []
    },
    {
      "cell_type": "markdown",
      "source": [
        "1. Loop Control Statements:\n"
      ],
      "metadata": {
        "id": "cu8NVxa0QbbH"
      }
    },
    {
      "cell_type": "code",
      "source": [
        "1. . break Statement:"
      ],
      "metadata": {
        "id": "6W5A3GyPQYgu"
      },
      "execution_count": null,
      "outputs": []
    },
    {
      "cell_type": "code",
      "source": [
        "Exits the loop prematurely when a condition is met."
      ],
      "metadata": {
        "id": "cT1CUvuLSRtM"
      },
      "execution_count": null,
      "outputs": []
    },
    {
      "cell_type": "code",
      "source": [
        "Example:"
      ],
      "metadata": {
        "id": "U_KVb6SrST3L"
      },
      "execution_count": null,
      "outputs": []
    },
    {
      "cell_type": "code",
      "source": [
        "for i in range(10):\n",
        "    if i == 5:\n",
        "        break\n",
        "    print(i)"
      ],
      "metadata": {
        "id": "ocEImyztSWs8"
      },
      "execution_count": null,
      "outputs": []
    },
    {
      "cell_type": "code",
      "source": [
        "Output:"
      ],
      "metadata": {
        "id": "3-rEryaDSZD7"
      },
      "execution_count": null,
      "outputs": []
    },
    {
      "cell_type": "code",
      "source": [
        "0\n",
        "1\n",
        "2\n",
        "3\n",
        "4"
      ],
      "metadata": {
        "id": "eIfIbpBgSbnX"
      },
      "execution_count": null,
      "outputs": []
    },
    {
      "cell_type": "markdown",
      "source": [
        "2. continue Statement:"
      ],
      "metadata": {
        "id": "_JNju7fASrJm"
      }
    },
    {
      "cell_type": "code",
      "source": [
        "Skips the current iteration and continues with the next one."
      ],
      "metadata": {
        "id": "VElsy8xkSw1R"
      },
      "execution_count": null,
      "outputs": []
    },
    {
      "cell_type": "code",
      "source": [
        "Example:"
      ],
      "metadata": {
        "id": "QjpC1f_mS1Wu"
      },
      "execution_count": null,
      "outputs": []
    },
    {
      "cell_type": "code",
      "source": [
        "for i in range(5):\n",
        "    if i == 2:\n",
        "        continue\n",
        "    print(i)"
      ],
      "metadata": {
        "id": "_WkkAkvJS4TP"
      },
      "execution_count": null,
      "outputs": []
    },
    {
      "cell_type": "code",
      "source": [
        "Output:"
      ],
      "metadata": {
        "id": "Nr4-azheS7aK"
      },
      "execution_count": null,
      "outputs": []
    },
    {
      "cell_type": "code",
      "source": [
        "0\n",
        "1\n",
        "3\n",
        "4"
      ],
      "metadata": {
        "id": "FIH75wi2S-nJ"
      },
      "execution_count": null,
      "outputs": []
    },
    {
      "cell_type": "code",
      "source": [
        "3. else Clause in Loops:"
      ],
      "metadata": {
        "id": "fQfqsfGnTBO1"
      },
      "execution_count": null,
      "outputs": []
    },
    {
      "cell_type": "code",
      "source": [
        "The else block after a loop executes when the loop finishes normally (i.e., not terminated by break)."
      ],
      "metadata": {
        "id": "pPm55D3rTIF_"
      },
      "execution_count": null,
      "outputs": []
    },
    {
      "cell_type": "code",
      "source": [
        "Example:"
      ],
      "metadata": {
        "id": "A6vfJ-jlVtSd"
      },
      "execution_count": null,
      "outputs": []
    },
    {
      "cell_type": "code",
      "source": [
        "for i in range(5):\n",
        "    print(i)\n",
        "else:\n",
        "    print(\"Loop completed without break\")"
      ],
      "metadata": {
        "id": "qMkHnAzcVubo"
      },
      "execution_count": null,
      "outputs": []
    },
    {
      "cell_type": "markdown",
      "source": [
        "Summary of Use Cases:\n"
      ],
      "metadata": {
        "id": "LoHTA7pUV2WB"
      }
    },
    {
      "cell_type": "code",
      "source": [
        "A. for loop: Best for iterating over a known sequence (e.g., list, string) or a fixed range of numbers.\n",
        "B. while loop: Best when the number of iterations depends on a condition that might change during runtime."
      ],
      "metadata": {
        "id": "hnFDupZKVxnA"
      },
      "execution_count": null,
      "outputs": []
    }
  ]
}